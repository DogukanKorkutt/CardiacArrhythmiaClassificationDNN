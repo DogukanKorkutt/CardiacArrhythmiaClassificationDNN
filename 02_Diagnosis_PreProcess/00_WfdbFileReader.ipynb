{
 "cells": [
  {
   "cell_type": "code",
   "execution_count": 1,
   "metadata": {},
   "outputs": [],
   "source": [
    "import wfdb\n",
    "import pandas as pd\n",
    "record = wfdb.rdrecord('/Users/dogukankorkut/Library/CloudStorage/OneDrive-ozyegin.edu.tr/Ozyegin_MSc_Thesis/04_Technical_Works/ECG_Datasets/01_Ningbo/01_Database_PyhsioNet/JS00001')  # Örneğin 'JS00001' dosyasını okuma"
   ]
  },
  {
   "cell_type": "code",
   "execution_count": 2,
   "metadata": {},
   "outputs": [
    {
     "data": {
      "text/plain": [
       "{'record_name': 'JS00001',\n",
       " 'n_sig': 12,\n",
       " 'fs': 500,\n",
       " 'counter_freq': None,\n",
       " 'base_counter': None,\n",
       " 'sig_len': 5000,\n",
       " 'base_time': None,\n",
       " 'base_date': None,\n",
       " 'comments': ['Age: 85',\n",
       "  'Sex: Male',\n",
       "  'Dx: 164889003,59118001,164934002',\n",
       "  'Rx: Unknown',\n",
       "  'Hx: Unknown',\n",
       "  'Sx: Unknown'],\n",
       " 'sig_name': ['I',\n",
       "  'II',\n",
       "  'III',\n",
       "  'aVR',\n",
       "  'aVL',\n",
       "  'aVF',\n",
       "  'V1',\n",
       "  'V2',\n",
       "  'V3',\n",
       "  'V4',\n",
       "  'V5',\n",
       "  'V6'],\n",
       " 'p_signal': array([[-0.254,  0.264,  0.517, ...,  0.81 ,  0.81 ,  0.527],\n",
       "        [-0.254,  0.264,  0.517, ...,  0.81 ,  0.81 ,  0.527],\n",
       "        [-0.254,  0.264,  0.517, ...,  0.81 ,  0.81 ,  0.527],\n",
       "        ...,\n",
       "        [-0.034, -0.068, -0.034, ..., -0.205, -0.2  ,  0.102],\n",
       "        [ 0.024, -0.049, -0.073, ..., -0.2  , -0.195,  0.093],\n",
       "        [ 0.005, -0.034, -0.039, ..., -0.171, -0.166,  0.112]]),\n",
       " 'd_signal': None,\n",
       " 'e_p_signal': None,\n",
       " 'e_d_signal': None,\n",
       " 'file_name': ['JS00001.mat',\n",
       "  'JS00001.mat',\n",
       "  'JS00001.mat',\n",
       "  'JS00001.mat',\n",
       "  'JS00001.mat',\n",
       "  'JS00001.mat',\n",
       "  'JS00001.mat',\n",
       "  'JS00001.mat',\n",
       "  'JS00001.mat',\n",
       "  'JS00001.mat',\n",
       "  'JS00001.mat',\n",
       "  'JS00001.mat'],\n",
       " 'fmt': ['16',\n",
       "  '16',\n",
       "  '16',\n",
       "  '16',\n",
       "  '16',\n",
       "  '16',\n",
       "  '16',\n",
       "  '16',\n",
       "  '16',\n",
       "  '16',\n",
       "  '16',\n",
       "  '16'],\n",
       " 'samps_per_frame': [1, 1, 1, 1, 1, 1, 1, 1, 1, 1, 1, 1],\n",
       " 'skew': [None,\n",
       "  None,\n",
       "  None,\n",
       "  None,\n",
       "  None,\n",
       "  None,\n",
       "  None,\n",
       "  None,\n",
       "  None,\n",
       "  None,\n",
       "  None,\n",
       "  None],\n",
       " 'byte_offset': [24, 24, 24, 24, 24, 24, 24, 24, 24, 24, 24, 24],\n",
       " 'adc_gain': [1000.0,\n",
       "  1000.0,\n",
       "  1000.0,\n",
       "  1000.0,\n",
       "  1000.0,\n",
       "  1000.0,\n",
       "  1000.0,\n",
       "  1000.0,\n",
       "  1000.0,\n",
       "  1000.0,\n",
       "  1000.0,\n",
       "  1000.0],\n",
       " 'baseline': [0, 0, 0, 0, 0, 0, 0, 0, 0, 0, 0, 0],\n",
       " 'units': ['mV',\n",
       "  'mV',\n",
       "  'mV',\n",
       "  'mV',\n",
       "  'mV',\n",
       "  'mV',\n",
       "  'mV',\n",
       "  'mV',\n",
       "  'mV',\n",
       "  'mV',\n",
       "  'mV',\n",
       "  'mV'],\n",
       " 'adc_res': [16, 16, 16, 16, 16, 16, 16, 16, 16, 16, 16, 16],\n",
       " 'adc_zero': [0, 0, 0, 0, 0, 0, 0, 0, 0, 0, 0, 0],\n",
       " 'init_value': [-254, 264, 517, -5, -386, 390, -98, -312, -98, 810, 810, 527],\n",
       " 'checksum': [21756,\n",
       "  -599,\n",
       "  -22376,\n",
       "  28232,\n",
       "  16619,\n",
       "  15121,\n",
       "  1568,\n",
       "  -32761,\n",
       "  32715,\n",
       "  15193,\n",
       "  14081,\n",
       "  32579],\n",
       " 'block_size': [0, 0, 0, 0, 0, 0, 0, 0, 0, 0, 0, 0]}"
      ]
     },
     "execution_count": 2,
     "metadata": {},
     "output_type": "execute_result"
    }
   ],
   "source": [
    "header_info = record.__dict__\n",
    "header_info"
   ]
  },
  {
   "cell_type": "code",
   "execution_count": 3,
   "metadata": {},
   "outputs": [
    {
     "name": "stdout",
     "output_type": "stream",
     "text": [
      "JS00001\n",
      "<class 'str'>\n"
     ]
    }
   ],
   "source": [
    "record_name = record.record_name\n",
    "print(record_name)\n",
    "print(type(record_name))"
   ]
  },
  {
   "cell_type": "code",
   "execution_count": 4,
   "metadata": {},
   "outputs": [
    {
     "name": "stdout",
     "output_type": "stream",
     "text": [
      "['Age: 85', 'Sex: Male', 'Dx: 164889003,59118001,164934002', 'Rx: Unknown', 'Hx: Unknown', 'Sx: Unknown']\n",
      "<class 'list'>\n"
     ]
    }
   ],
   "source": [
    "comments = record.comments\n",
    "print(comments)\n",
    "print(type(comments))"
   ]
  },
  {
   "cell_type": "code",
   "execution_count": 5,
   "metadata": {},
   "outputs": [
    {
     "name": "stdout",
     "output_type": "stream",
     "text": [
      "['I', 'II', 'III', 'aVR', 'aVL', 'aVF', 'V1', 'V2', 'V3', 'V4', 'V5', 'V6']\n",
      "<class 'list'>\n"
     ]
    }
   ],
   "source": [
    "sig_name = record.sig_name\n",
    "print(sig_name)\n",
    "print(type(sig_name))"
   ]
  },
  {
   "cell_type": "code",
   "execution_count": 6,
   "metadata": {},
   "outputs": [
    {
     "name": "stdout",
     "output_type": "stream",
     "text": [
      "[[-0.254  0.264  0.517 ...  0.81   0.81   0.527]\n",
      " [-0.254  0.264  0.517 ...  0.81   0.81   0.527]\n",
      " [-0.254  0.264  0.517 ...  0.81   0.81   0.527]\n",
      " ...\n",
      " [-0.034 -0.068 -0.034 ... -0.205 -0.2    0.102]\n",
      " [ 0.024 -0.049 -0.073 ... -0.2   -0.195  0.093]\n",
      " [ 0.005 -0.034 -0.039 ... -0.171 -0.166  0.112]]\n",
      "<class 'numpy.ndarray'>\n"
     ]
    }
   ],
   "source": [
    "p_signal = record.p_signal\n",
    "print(p_signal)\n",
    "print(type(p_signal))"
   ]
  }
 ],
 "metadata": {
  "kernelspec": {
   "display_name": "DogukanWorkplace",
   "language": "python",
   "name": "python3"
  },
  "language_info": {
   "codemirror_mode": {
    "name": "ipython",
    "version": 3
   },
   "file_extension": ".py",
   "mimetype": "text/x-python",
   "name": "python",
   "nbconvert_exporter": "python",
   "pygments_lexer": "ipython3",
   "version": "3.9.19"
  }
 },
 "nbformat": 4,
 "nbformat_minor": 2
}
