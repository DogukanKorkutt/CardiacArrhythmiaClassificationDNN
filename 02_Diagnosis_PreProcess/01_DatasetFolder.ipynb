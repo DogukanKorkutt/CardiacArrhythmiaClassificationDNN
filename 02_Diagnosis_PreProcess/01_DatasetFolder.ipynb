{
 "cells": [
  {
   "cell_type": "code",
   "execution_count": null,
   "metadata": {},
   "outputs": [
    {
     "name": "stdout",
     "output_type": "stream",
     "text": [
      "All files have been successfully copied!\n"
     ]
    }
   ],
   "source": [
    "import os\n",
    "import shutil\n",
    "\n",
    "# Source folder and target folder paths\n",
    "source_folder = \"/Users/dogukankorkut/Library/CloudStorage/OneDrive-ozyegin.edu.tr/Ozyegin_MSc_Thesis/04_Technical_Works/ECG_Datasets/01_Ningbo/01_Database_PyhsioNet_Old\"  # Replace with your source folder path\n",
    "destination_folder = \"/Users/dogukankorkut/Library/CloudStorage/OneDrive-ozyegin.edu.tr/Ozyegin_MSc_Thesis/04_Technical_Works/ECG_Datasets/01_Ningbo/01_Database_PyhsioNet\"  # Replace with your target folder path\n",
    "\n",
    "# Create the target folder (if it doesn't exist)\n",
    "if not os.path.exists(destination_folder):\n",
    "    os.makedirs(destination_folder)\n",
    "\n",
    "# Copy files from subfolders to the target folder\n",
    "for root, _, files in os.walk(source_folder):\n",
    "    for file in files:\n",
    "        source_file = os.path.join(root, file)\n",
    "        destination_file = os.path.join(destination_folder, file)\n",
    "        \n",
    "        # Handle duplicate file names by appending a counter to the file name\n",
    "        if os.path.exists(destination_file):\n",
    "            base, ext = os.path.splitext(file)\n",
    "            counter = 1\n",
    "            while os.path.exists(destination_file):\n",
    "                destination_file = os.path.join(destination_folder, f\"{base}_{counter}{ext}\")\n",
    "                counter += 1\n",
    "        \n",
    "        # Copy the file\n",
    "        shutil.copy(source_file, destination_file)\n",
    "\n",
    "print(\"All files have been successfully copied!\")"
   ]
  }
 ],
 "metadata": {
  "kernelspec": {
   "display_name": "DogukanWorkplace",
   "language": "python",
   "name": "python3"
  },
  "language_info": {
   "codemirror_mode": {
    "name": "ipython",
    "version": 3
   },
   "file_extension": ".py",
   "mimetype": "text/x-python",
   "name": "python",
   "nbconvert_exporter": "python",
   "pygments_lexer": "ipython3",
   "version": "3.9.19"
  }
 },
 "nbformat": 4,
 "nbformat_minor": 2
}
