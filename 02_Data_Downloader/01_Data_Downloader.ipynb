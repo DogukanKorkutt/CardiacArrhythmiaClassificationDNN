{
 "cells": [
  {
   "cell_type": "code",
   "execution_count": null,
   "metadata": {},
   "outputs": [],
   "source": [
    "import subprocess\n",
    "import os\n",
    "import shutil\n",
    "\n",
    "# Specify the destination folder\n",
    "target_directory = \"../ecg_data\"\n",
    "\n",
    "# Create the destination folder\n",
    "os.makedirs(target_directory, exist_ok=True)\n",
    "\n",
    "# Run wget command with subprocess\n",
    "command = f\"wget -r -N -c -np -P {target_directory} https://physionet.org/files/ecg-arrhythmia/1.0.0/\"\n",
    "subprocess.run(command, shell=True)\n",
    "\n",
    "print(f\"Files have been downloaded to {os.path.abspath(target_directory)}\")\n"
   ]
  },
  {
   "cell_type": "code",
   "execution_count": null,
   "metadata": {},
   "outputs": [],
   "source": [
    "# Download directory and target directory\n",
    "download_dir = \"../ecg_data\"\n",
    "target_dir = \"../01_Database_PhysioNet_Old_v2\"\n",
    "\n",
    "# Find the WFDBRecords folder\n",
    "wfdb_records_path = None\n",
    "for root, dirs, files in os.walk(download_dir):\n",
    "    if \"WFDBRecords\" in dirs:\n",
    "        wfdb_records_path = os.path.join(root, \"WFDBRecords\")\n",
    "        break\n",
    "\n",
    "# Move files in WFDBRecords to destination\n",
    "if wfdb_records_path:\n",
    "    # Create the destination folder\n",
    "    os.makedirs(target_dir, exist_ok=True)\n",
    "\n",
    "    # Move all files and folders in WFDBRecords\n",
    "    for item in os.listdir(wfdb_records_path):\n",
    "        item_path = os.path.join(wfdb_records_path, item)\n",
    "        shutil.move(item_path, target_dir)\n",
    "        print(f\"Moved {item} to {target_dir}\")\n",
    "\n",
    "    print(f\"All contents of WFDBRecords moved to {target_dir}\")\n",
    "else:\n",
    "    print(\"WFDBRecords folder not found!\")\n",
    "\n",
    "# Completely delete the download directory (ecg_data)\n",
    "if os.path.exists(download_dir):\n",
    "    shutil.rmtree(download_dir)\n",
    "    print(f\"{download_dir} has been deleted.\")\n",
    "else:\n",
    "    print(f\"{download_dir} does not exist!\")"
   ]
  }
 ],
 "metadata": {
  "kernelspec": {
   "display_name": "DogukanWorkplace",
   "language": "python",
   "name": "python3"
  },
  "language_info": {
   "codemirror_mode": {
    "name": "ipython",
    "version": 3
   },
   "file_extension": ".py",
   "mimetype": "text/x-python",
   "name": "python",
   "nbconvert_exporter": "python",
   "pygments_lexer": "ipython3",
   "version": "3.9.19"
  }
 },
 "nbformat": 4,
 "nbformat_minor": 2
}
